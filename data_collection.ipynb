{
 "cells": [
  {
   "cell_type": "code",
   "execution_count": 1,
   "id": "b12aab79",
   "metadata": {},
   "outputs": [],
   "source": [
    "import glassdoor_scraper as gs\n",
    "import pandas as pd"
   ]
  },
  {
   "cell_type": "code",
   "execution_count": 2,
   "id": "c3db4708",
   "metadata": {},
   "outputs": [],
   "source": [
    "path = \"C:/Users/Daniyal/Desktop/ML_DATASETS/Glassdoor/ds_salary_proj/chromedriver\""
   ]
  },
  {
   "cell_type": "code",
   "execution_count": 4,
   "id": "6ff23885",
   "metadata": {},
   "outputs": [],
   "source": [
    "#This line will open a new chrome window and start the scraping.\n",
    "df = gs.get_jobs(\"data scientist\", 15, False, path, 15)"
   ]
  },
  {
   "cell_type": "code",
   "execution_count": null,
   "id": "82875217",
   "metadata": {},
   "outputs": [],
   "source": []
  }
 ],
 "metadata": {
  "kernelspec": {
   "display_name": "Python 3",
   "language": "python",
   "name": "python3"
  },
  "language_info": {
   "codemirror_mode": {
    "name": "ipython",
    "version": 3
   },
   "file_extension": ".py",
   "mimetype": "text/x-python",
   "name": "python",
   "nbconvert_exporter": "python",
   "pygments_lexer": "ipython3",
   "version": "3.9.2"
  }
 },
 "nbformat": 4,
 "nbformat_minor": 5
}
